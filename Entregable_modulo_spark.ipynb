{
  "nbformat": 4,
  "nbformat_minor": 0,
  "metadata": {
    "colab": {
      "provenance": []
    },
    "kernelspec": {
      "name": "python3",
      "display_name": "Python 3"
    },
    "language_info": {
      "name": "python"
    }
  },
  "cells": [
    {
      "cell_type": "markdown",
      "source": [
        "# Cutberto Arizabalo Nava"
      ],
      "metadata": {
        "id": "nkwWAxBe_vim"
      }
    },
    {
      "cell_type": "markdown",
      "source": [
        "Data: https://www.kaggle.com/competitions/nfl-big-data-bowl-2020/data"
      ],
      "metadata": {
        "id": "Fj0-fYo6_srI"
      }
    },
    {
      "cell_type": "code",
      "execution_count": null,
      "metadata": {
        "colab": {
          "base_uri": "https://localhost:8080/"
        },
        "id": "i7ML9WEHu0zV",
        "outputId": "be977e86-0f8d-4af0-bcb3-80a5cb6ab2e1"
      },
      "outputs": [
        {
          "output_type": "stream",
          "name": "stdout",
          "text": [
            "\u001b[33m\r0% [Working]\u001b[0m\r            \rHit:1 http://security.ubuntu.com/ubuntu bionic-security InRelease\n",
            "\u001b[33m\r0% [Connecting to archive.ubuntu.com (185.125.190.39)] [Connecting to cloud.r-p\u001b[0m\u001b[33m\r0% [1 InRelease gpgv 88.7 kB] [Connecting to archive.ubuntu.com (185.125.190.39\u001b[0m\r                                                                               \rIgn:2 https://developer.download.nvidia.com/compute/machine-learning/repos/ubuntu1804/x86_64  InRelease\n",
            "\u001b[33m\r0% [1 InRelease gpgv 88.7 kB] [Connecting to archive.ubuntu.com (185.125.190.39\u001b[0m\r                                                                               \rHit:3 https://developer.download.nvidia.com/compute/cuda/repos/ubuntu1804/x86_64  InRelease\n",
            "Hit:4 https://developer.download.nvidia.com/compute/machine-learning/repos/ubuntu1804/x86_64  Release\n",
            "Hit:5 http://archive.ubuntu.com/ubuntu bionic InRelease\n",
            "Hit:6 http://ppa.launchpad.net/c2d4u.team/c2d4u4.0+/ubuntu bionic InRelease\n",
            "Hit:7 https://cloud.r-project.org/bin/linux/ubuntu bionic-cran40/ InRelease\n",
            "Hit:8 http://archive.ubuntu.com/ubuntu bionic-updates InRelease\n",
            "Hit:10 http://archive.ubuntu.com/ubuntu bionic-backports InRelease\n",
            "Hit:11 http://ppa.launchpad.net/cran/libgit2/ubuntu bionic InRelease\n",
            "Hit:12 http://ppa.launchpad.net/deadsnakes/ppa/ubuntu bionic InRelease\n",
            "Hit:13 http://ppa.launchpad.net/graphics-drivers/ppa/ubuntu bionic InRelease\n",
            "Reading package lists... Done\n",
            "Building dependency tree       \n",
            "Reading state information... Done\n",
            "29 packages can be upgraded. Run 'apt list --upgradable' to see them.\n",
            "Looking in indexes: https://pypi.org/simple, https://us-python.pkg.dev/colab-wheels/public/simple/\n",
            "Requirement already satisfied: pyspark in /usr/local/lib/python3.7/dist-packages (3.3.1)\n",
            "Requirement already satisfied: py4j==0.10.9.5 in /usr/local/lib/python3.7/dist-packages (from pyspark) (0.10.9.5)\n"
          ]
        }
      ],
      "source": [
        "#Bibliotecas para poder trabajar con Spark\n",
        "!sudo apt update\n",
        "!apt-get install openjdk-8-jdk-headless -qq > /dev/null\n",
        "!wget -q https://downloads.apache.org/spark/spark-3.2.2//spark-3.2.2-bin-hadoop3.2.tgz\n",
        "!tar xf spark-3.2.2-bin-hadoop3.2.tgz\n",
        "#Configuración de Spark con Python\n",
        "!pip install -q findspark\n",
        "!pip install pyspark\n",
        "\n"
      ]
    },
    {
      "cell_type": "code",
      "source": [
        "from google.colab import drive\n",
        "import numpy as np\n",
        "import pandas as pd\n",
        "drive.mount(\"/content/gdrive\")  \n",
        "!pwd  # show current path \n",
        "\n",
        "%cd \"/content/gdrive/MyDrive/IA95022/spark_ml\"\n",
        "!ls  # show current directory"
      ],
      "metadata": {
        "colab": {
          "base_uri": "https://localhost:8080/"
        },
        "id": "BGia7IDpu-fj",
        "outputId": "9f887272-3d5f-4643-ade4-d11ebb603713"
      },
      "execution_count": null,
      "outputs": [
        {
          "output_type": "stream",
          "name": "stdout",
          "text": [
            "Drive already mounted at /content/gdrive; to attempt to forcibly remount, call drive.mount(\"/content/gdrive\", force_remount=True).\n",
            "/content\n",
            "/content/gdrive/MyDrive/IA95022/spark_ml\n",
            "train.csv\n"
          ]
        }
      ]
    },
    {
      "cell_type": "code",
      "source": [
        "#Estableciendo variable de entorno\n",
        "import os\n",
        "os.environ[\"JAVA_HOME\"] = \"/usr/lib/jvm/java-8-openjdk-amd64\"\n",
        "os.environ[\"SPARK_HOME\"] = \"/content/spark-3.2.2-bin-hadoop3.2\"\n",
        "\n",
        "#Buscando e inicializando la instalación de Spark\n",
        "import findspark\n",
        "findspark.init()\n",
        "findspark.find()"
      ],
      "metadata": {
        "colab": {
          "base_uri": "https://localhost:8080/",
          "height": 36
        },
        "id": "T44H9Rd5xFVn",
        "outputId": "a5310e96-d8d3-473c-b2ff-311e305e9bf8"
      },
      "execution_count": null,
      "outputs": [
        {
          "output_type": "execute_result",
          "data": {
            "text/plain": [
              "'/content/spark-3.2.2-bin-hadoop3.2'"
            ],
            "application/vnd.google.colaboratory.intrinsic+json": {
              "type": "string"
            }
          },
          "metadata": {},
          "execution_count": 3
        }
      ]
    },
    {
      "cell_type": "code",
      "source": [
        "from pyspark.sql import SparkSession\n",
        "spark_session = SparkSession.builder.appName('app').getOrCreate()\n",
        "spark_session"
      ],
      "metadata": {
        "colab": {
          "base_uri": "https://localhost:8080/",
          "height": 219
        },
        "id": "3WeTyYIQu50W",
        "outputId": "dd0953fc-e189-464c-fce4-465f29c0ac30"
      },
      "execution_count": null,
      "outputs": [
        {
          "output_type": "execute_result",
          "data": {
            "text/plain": [
              "<pyspark.sql.session.SparkSession at 0x7f3a3f291310>"
            ],
            "text/html": [
              "\n",
              "            <div>\n",
              "                <p><b>SparkSession - in-memory</b></p>\n",
              "                \n",
              "        <div>\n",
              "            <p><b>SparkContext</b></p>\n",
              "\n",
              "            <p><a href=\"http://c3cdf0f341ca:4040\">Spark UI</a></p>\n",
              "\n",
              "            <dl>\n",
              "              <dt>Version</dt>\n",
              "                <dd><code>v3.2.2</code></dd>\n",
              "              <dt>Master</dt>\n",
              "                <dd><code>local[*]</code></dd>\n",
              "              <dt>AppName</dt>\n",
              "                <dd><code>app</code></dd>\n",
              "            </dl>\n",
              "        </div>\n",
              "        \n",
              "            </div>\n",
              "        "
            ]
          },
          "metadata": {},
          "execution_count": 4
        }
      ]
    },
    {
      "cell_type": "code",
      "source": [
        "df_spark = spark_session.read.csv('train.csv', header=True, inferSchema=True)\n",
        "df_spark"
      ],
      "metadata": {
        "colab": {
          "base_uri": "https://localhost:8080/"
        },
        "id": "RbFgUyZTvA3N",
        "outputId": "45bac401-e2b0-49ba-b3c1-28c50682a464"
      },
      "execution_count": null,
      "outputs": [
        {
          "output_type": "execute_result",
          "data": {
            "text/plain": [
              "DataFrame[GameId: int, PlayId: bigint, Team: string, X: double, Y: double, S: double, A: double, Dis: double, Orientation: double, Dir: double, NflId: int, DisplayName: string, JerseyNumber: int, Season: int, YardLine: int, Quarter: int, GameClock: string, PossessionTeam: string, Down: int, Distance: int, FieldPosition: string, HomeScoreBeforePlay: int, VisitorScoreBeforePlay: int, NflIdRusher: int, OffenseFormation: string, OffensePersonnel: string, DefendersInTheBox: int, DefensePersonnel: string, PlayDirection: string, TimeHandoff: timestamp, TimeSnap: timestamp, Yards: int, PlayerHeight: string, PlayerWeight: int, PlayerBirthDate: string, PlayerCollegeName: string, Position: string, HomeTeamAbbr: string, VisitorTeamAbbr: string, Week: int, Stadium: string, Location: string, StadiumType: string, Turf: string, GameWeather: string, Temperature: int, Humidity: int, WindSpeed: string, WindDirection: string]"
            ]
          },
          "metadata": {},
          "execution_count": 10
        }
      ]
    },
    {
      "cell_type": "code",
      "source": [
        "df_spark.printSchema()"
      ],
      "metadata": {
        "colab": {
          "base_uri": "https://localhost:8080/"
        },
        "id": "-4zq59VGvAm0",
        "outputId": "83ad3644-e1d1-4de5-d338-e72ce4d10054"
      },
      "execution_count": null,
      "outputs": [
        {
          "output_type": "stream",
          "name": "stdout",
          "text": [
            "root\n",
            " |-- GameId: integer (nullable = true)\n",
            " |-- PlayId: long (nullable = true)\n",
            " |-- Team: string (nullable = true)\n",
            " |-- X: double (nullable = true)\n",
            " |-- Y: double (nullable = true)\n",
            " |-- S: double (nullable = true)\n",
            " |-- A: double (nullable = true)\n",
            " |-- Dis: double (nullable = true)\n",
            " |-- Orientation: double (nullable = true)\n",
            " |-- Dir: double (nullable = true)\n",
            " |-- NflId: integer (nullable = true)\n",
            " |-- DisplayName: string (nullable = true)\n",
            " |-- JerseyNumber: integer (nullable = true)\n",
            " |-- Season: integer (nullable = true)\n",
            " |-- YardLine: integer (nullable = true)\n",
            " |-- Quarter: integer (nullable = true)\n",
            " |-- GameClock: string (nullable = true)\n",
            " |-- PossessionTeam: string (nullable = true)\n",
            " |-- Down: integer (nullable = true)\n",
            " |-- Distance: integer (nullable = true)\n",
            " |-- FieldPosition: string (nullable = true)\n",
            " |-- HomeScoreBeforePlay: integer (nullable = true)\n",
            " |-- VisitorScoreBeforePlay: integer (nullable = true)\n",
            " |-- NflIdRusher: integer (nullable = true)\n",
            " |-- OffenseFormation: string (nullable = true)\n",
            " |-- OffensePersonnel: string (nullable = true)\n",
            " |-- DefendersInTheBox: integer (nullable = true)\n",
            " |-- DefensePersonnel: string (nullable = true)\n",
            " |-- PlayDirection: string (nullable = true)\n",
            " |-- TimeHandoff: timestamp (nullable = true)\n",
            " |-- TimeSnap: timestamp (nullable = true)\n",
            " |-- Yards: integer (nullable = true)\n",
            " |-- PlayerHeight: string (nullable = true)\n",
            " |-- PlayerWeight: integer (nullable = true)\n",
            " |-- PlayerBirthDate: string (nullable = true)\n",
            " |-- PlayerCollegeName: string (nullable = true)\n",
            " |-- Position: string (nullable = true)\n",
            " |-- HomeTeamAbbr: string (nullable = true)\n",
            " |-- VisitorTeamAbbr: string (nullable = true)\n",
            " |-- Week: integer (nullable = true)\n",
            " |-- Stadium: string (nullable = true)\n",
            " |-- Location: string (nullable = true)\n",
            " |-- StadiumType: string (nullable = true)\n",
            " |-- Turf: string (nullable = true)\n",
            " |-- GameWeather: string (nullable = true)\n",
            " |-- Temperature: integer (nullable = true)\n",
            " |-- Humidity: integer (nullable = true)\n",
            " |-- WindSpeed: string (nullable = true)\n",
            " |-- WindDirection: string (nullable = true)\n",
            "\n"
          ]
        }
      ]
    },
    {
      "cell_type": "code",
      "source": [
        "from pyspark.ml.feature import VectorAssembler\n",
        "\n",
        "featassembler = VectorAssembler(inputCols=[\n",
        " 'X',\n",
        " 'Y',\n",
        " 'Orientation',\n",
        " 'Season',\n",
        " \"Down\",\n",
        " \"HomeScoreBeforePlay\",\n",
        " \"Temperature\",\n",
        " \"Distance\",\n",
        " \"Humidity\",\n",
        " 'Quarter'], outputCol = \"Independent Features\" ).setHandleInvalid(\"skip\")\n",
        "featassembler"
      ],
      "metadata": {
        "colab": {
          "base_uri": "https://localhost:8080/"
        },
        "id": "qMRQP658zHV5",
        "outputId": "e34d4992-12f7-4654-cc90-15e9ffdbb2a7"
      },
      "execution_count": null,
      "outputs": [
        {
          "output_type": "execute_result",
          "data": {
            "text/plain": [
              "VectorAssembler_f6736ec88f83"
            ]
          },
          "metadata": {},
          "execution_count": 34
        }
      ]
    },
    {
      "cell_type": "code",
      "source": [
        "result = featassembler.transform(df_spark)\n",
        "result.show()"
      ],
      "metadata": {
        "colab": {
          "base_uri": "https://localhost:8080/"
        },
        "id": "6zT1r0mg3F8u",
        "outputId": "ed430aa6-d3d8-45ca-8797-f734368ebb76"
      },
      "execution_count": null,
      "outputs": [
        {
          "output_type": "stream",
          "name": "stdout",
          "text": [
            "+----------+--------------+----+-----+-----+----+----+----+-----------+------+-------+-----------------+------------+------+--------+-------+---------+--------------+----+--------+-------------+-------------------+----------------------+-----------+----------------+----------------+-----------------+----------------+-------------+-------------------+-------------------+-----+------------+------------+---------------+-----------------+--------+------------+---------------+----+----------------+--------------+-----------+----------+--------------+-----------+--------+---------+-------------+--------------------+\n",
            "|    GameId|        PlayId|Team|    X|    Y|   S|   A| Dis|Orientation|   Dir|  NflId|      DisplayName|JerseyNumber|Season|YardLine|Quarter|GameClock|PossessionTeam|Down|Distance|FieldPosition|HomeScoreBeforePlay|VisitorScoreBeforePlay|NflIdRusher|OffenseFormation|OffensePersonnel|DefendersInTheBox|DefensePersonnel|PlayDirection|        TimeHandoff|           TimeSnap|Yards|PlayerHeight|PlayerWeight|PlayerBirthDate|PlayerCollegeName|Position|HomeTeamAbbr|VisitorTeamAbbr|Week|         Stadium|      Location|StadiumType|      Turf|   GameWeather|Temperature|Humidity|WindSpeed|WindDirection|Independent Features|\n",
            "+----------+--------------+----+-----+-----+----+----+----+-----------+------+-------+-----------------+------------+------+--------+-------+---------+--------------+----+--------+-------------+-------------------+----------------------+-----------+----------------+----------------+-----------------+----------------+-------------+-------------------+-------------------+-----+------------+------------+---------------+-----------------+--------+------------+---------------+----+----------------+--------------+-----------+----------+--------------+-----------+--------+---------+-------------+--------------------+\n",
            "|2017090700|20170907000118|away|73.91|34.84|1.69|1.13| 0.4|      81.99|177.18| 496723|       Eric Berry|          29|  2017|      35|      1| 14:14:00|            NE|   3|       2|           NE|                  0|                     0|    2543773|         SHOTGUN|1 RB, 1 TE, 3 WR|                6|2 DL, 3 LB, 6 DB|         left|2017-09-08 00:44:06|2017-09-08 00:44:05|    8|         6-0|         212|     12/29/1988|        Tennessee|      SS|          NE|             KC|   1|Gillette Stadium|Foxborough, MA|    Outdoor|Field Turf|Clear and warm|         63|      77|        8|           SW|[73.91,34.84,81.9...|\n",
            "|2017090700|20170907000118|away|74.67|32.64|0.42|1.35|0.01|      27.61| 198.7|2495116|     Allen Bailey|          97|  2017|      35|      1| 14:14:00|            NE|   3|       2|           NE|                  0|                     0|    2543773|         SHOTGUN|1 RB, 1 TE, 3 WR|                6|2 DL, 3 LB, 6 DB|         left|2017-09-08 00:44:06|2017-09-08 00:44:05|    8|         6-3|         288|     03/25/1989|            Miami|      DE|          NE|             KC|   1|Gillette Stadium|Foxborough, MA|    Outdoor|Field Turf|Clear and warm|         63|      77|        8|           SW|[74.67,32.64,27.6...|\n",
            "|2017090700|20170907000118|away| 74.0| 33.2|1.22|0.59|0.31|       3.01|202.73|2495493|   Justin Houston|          50|  2017|      35|      1| 14:14:00|            NE|   3|       2|           NE|                  0|                     0|    2543773|         SHOTGUN|1 RB, 1 TE, 3 WR|                6|2 DL, 3 LB, 6 DB|         left|2017-09-08 00:44:06|2017-09-08 00:44:05|    8|         6-3|         270|     01/21/1989|          Georgia|      DE|          NE|             KC|   1|Gillette Stadium|Foxborough, MA|    Outdoor|Field Turf|Clear and warm|         63|      77|        8|           SW|[74.0,33.2,3.01,2...|\n",
            "|2017090700|20170907000118|away|71.46| 27.7|0.42|0.54|0.02|     359.77|105.64|2506353|  Derrick Johnson|          56|  2017|      35|      1| 14:14:00|            NE|   3|       2|           NE|                  0|                     0|    2543773|         SHOTGUN|1 RB, 1 TE, 3 WR|                6|2 DL, 3 LB, 6 DB|         left|2017-09-08 00:44:06|2017-09-08 00:44:05|    8|         6-3|         245|     11/22/1982|            Texas|     ILB|          NE|             KC|   1|Gillette Stadium|Foxborough, MA|    Outdoor|Field Turf|Clear and warm|         63|      77|        8|           SW|[71.46,27.7,359.7...|\n",
            "|2017090700|20170907000118|away|69.32|35.42|1.82|2.43|0.16|      12.63|164.31|2530794|       Ron Parker|          38|  2017|      35|      1| 14:14:00|            NE|   3|       2|           NE|                  0|                     0|    2543773|         SHOTGUN|1 RB, 1 TE, 3 WR|                6|2 DL, 3 LB, 6 DB|         left|2017-09-08 00:44:06|2017-09-08 00:44:05|    8|         6-0|         206|     08/17/1987|         Newberry|      FS|          NE|             KC|   1|Gillette Stadium|Foxborough, MA|    Outdoor|Field Turf|Clear and warm|         63|      77|        8|           SW|[69.32,35.42,12.6...|\n",
            "|2017090700|20170907000118|away|75.06| 24.0|1.01|0.32|0.18|     308.34| 95.01|2543494|         Dee Ford|          55|  2017|      35|      1| 14:14:00|            NE|   3|       2|           NE|                  0|                     0|    2543773|         SHOTGUN|1 RB, 1 TE, 3 WR|                6|2 DL, 3 LB, 6 DB|         left|2017-09-08 00:44:06|2017-09-08 00:44:05|    8|         6-2|         252|     03/19/1991|           Auburn|      DE|          NE|             KC|   1|Gillette Stadium|Foxborough, MA|    Outdoor|Field Turf|Clear and warm|         63|      77|        8|           SW|[75.06,24.0,308.3...|\n",
            "|2017090700|20170907000118|away|74.11|16.64|1.11|0.83|0.02|     357.23|322.59|2543637|Terrance Mitchell|          39|  2017|      35|      1| 14:14:00|            NE|   3|       2|           NE|                  0|                     0|    2543773|         SHOTGUN|1 RB, 1 TE, 3 WR|                6|2 DL, 3 LB, 6 DB|         left|2017-09-08 00:44:06|2017-09-08 00:44:05|    8|        5-11|         190|     05/17/1992|           Oregon|      CB|          NE|             KC|   1|Gillette Stadium|Foxborough, MA|    Outdoor|Field Turf|Clear and warm|         63|      77|        8|           SW|[74.11,16.64,357....|\n",
            "|2017090700|20170907000118|away|73.37|18.73|1.24|0.74|0.13|     328.52|270.04|2543851|   Phillip Gaines|          23|  2017|      35|      1| 14:14:00|            NE|   3|       2|           NE|                  0|                     0|    2543773|         SHOTGUN|1 RB, 1 TE, 3 WR|                6|2 DL, 3 LB, 6 DB|         left|2017-09-08 00:44:06|2017-09-08 00:44:05|    8|         6-0|         193|     04/04/1991|             Rice|      CB|          NE|             KC|   1|Gillette Stadium|Foxborough, MA|    Outdoor|Field Turf|Clear and warm|         63|      77|        8|           SW|[73.37,18.73,328....|\n",
            "|2017090700|20170907000118|away|56.63| 26.9|0.26|1.86|0.28|      344.7| 55.31|2550257|  Daniel Sorensen|          49|  2017|      35|      1| 14:14:00|            NE|   3|       2|           NE|                  0|                     0|    2543773|         SHOTGUN|1 RB, 1 TE, 3 WR|                6|2 DL, 3 LB, 6 DB|         left|2017-09-08 00:44:06|2017-09-08 00:44:05|    8|         6-2|         208|     03/05/1990|    Brigham Young|      SS|          NE|             KC|   1|Gillette Stadium|Foxborough, MA|    Outdoor|Field Turf|Clear and warm|         63|      77|        8|           SW|[56.63,26.9,344.7...|\n",
            "|2017090700|20170907000118|away|73.35|38.83|4.55|0.76|0.51|      75.47|190.84|2552488|    Marcus Peters|          22|  2017|      35|      1| 14:14:00|            NE|   3|       2|           NE|                  0|                     0|    2543773|         SHOTGUN|1 RB, 1 TE, 3 WR|                6|2 DL, 3 LB, 6 DB|         left|2017-09-08 00:44:06|2017-09-08 00:44:05|    8|         6-0|         197|     01/09/1993|       Washington|      CB|          NE|             KC|   1|Gillette Stadium|Foxborough, MA|    Outdoor|Field Turf|Clear and warm|         63|      77|        8|           SW|[73.35,38.83,75.4...|\n",
            "|2017090700|20170907000118|away|74.15| 28.9|0.72|0.73|0.01|     342.58|274.14|2556369|      Chris Jones|          95|  2017|      35|      1| 14:14:00|            NE|   3|       2|           NE|                  0|                     0|    2543773|         SHOTGUN|1 RB, 1 TE, 3 WR|                6|2 DL, 3 LB, 6 DB|         left|2017-09-08 00:44:06|2017-09-08 00:44:05|    8|         6-6|         308|     07/03/1994|Mississippi State|      DT|          NE|             KC|   1|Gillette Stadium|Foxborough, MA|    Outdoor|Field Turf|Clear and warm|         63|      77|        8|           SW|[74.15,28.9,342.5...|\n",
            "|2017090700|20170907000118|home|75.82|17.56| 2.3|1.39|0.55|     178.97|284.15|   2649|   Danny Amendola|          80|  2017|      35|      1| 14:14:00|            NE|   3|       2|           NE|                  0|                     0|    2543773|         SHOTGUN|1 RB, 1 TE, 3 WR|                6|2 DL, 3 LB, 6 DB|         left|2017-09-08 00:44:06|2017-09-08 00:44:05|    8|        5-11|         185|     11/02/1985|       Texas Tech|      WR|          NE|             KC|   1|Gillette Stadium|Foxborough, MA|    Outdoor|Field Turf|Clear and warm|         63|      77|        8|           SW|[75.82,17.56,178....|\n",
            "|2017090700|20170907000118|home|74.78|33.21|1.71|0.82|0.19|     178.82| 215.9| 497240|   Rob Gronkowski|          87|  2017|      35|      1| 14:14:00|            NE|   3|       2|           NE|                  0|                     0|    2543773|         SHOTGUN|1 RB, 1 TE, 3 WR|                6|2 DL, 3 LB, 6 DB|         left|2017-09-08 00:44:06|2017-09-08 00:44:05|    8|         6-6|         265|     05/14/1989|          Arizona|      TE|          NE|             KC|   1|Gillette Stadium|Foxborough, MA|    Outdoor|Field Turf|Clear and warm|         63|      77|        8|           SW|[74.78,33.21,178....|\n",
            "|2017090700|20170907000118|home|75.43|32.41| 1.5|1.36|0.32|     207.08|222.76|2495131|    Marcus Cannon|          61|  2017|      35|      1| 14:14:00|            NE|   3|       2|           NE|                  0|                     0|    2543773|         SHOTGUN|1 RB, 1 TE, 3 WR|                6|2 DL, 3 LB, 6 DB|         left|2017-09-08 00:44:06|2017-09-08 00:44:05|    8|         6-6|         335|     05/06/1988|  Texas Christian|       T|          NE|             KC|   1|Gillette Stadium|Foxborough, MA|    Outdoor|Field Turf|Clear and warm|         63|      77|        8|           SW|[75.43,32.41,207....|\n",
            "|2017090700|20170907000118|home| 75.9|25.12|1.38| 0.8|0.19|     133.01|198.55|2495232|      Nate Solder|          77|  2017|      35|      1| 14:14:00|            NE|   3|       2|           NE|                  0|                     0|    2543773|         SHOTGUN|1 RB, 1 TE, 3 WR|                6|2 DL, 3 LB, 6 DB|         left|2017-09-08 00:44:06|2017-09-08 00:44:05|    8|         6-9|         325|     04/12/1988|         Colorado|       T|          NE|             KC|   1|Gillette Stadium|Foxborough, MA|    Outdoor|Field Turf|Clear and warm|         63|      77|        8|           SW|[75.9,25.12,133.0...|\n",
            "|2017090700|20170907000118|home|79.76|29.49|0.84|1.22| 0.0|     192.18|110.86|2504211|        Tom Brady|          12|  2017|      35|      1| 14:14:00|            NE|   3|       2|           NE|                  0|                     0|    2543773|         SHOTGUN|1 RB, 1 TE, 3 WR|                6|2 DL, 3 LB, 6 DB|         left|2017-09-08 00:44:06|2017-09-08 00:44:05|    8|         6-4|         225|     08/03/1977|         Michigan|      QB|          NE|             KC|   1|Gillette Stadium|Foxborough, MA|    Outdoor|Field Turf|Clear and warm|         63|      77|        8|           SW|[79.76,29.49,192....|\n",
            "|2017090700|20170907000118|home|76.47|36.91|5.15|0.77|0.59|     112.02|195.09|2530515|      Chris Hogan|          15|  2017|      35|      1| 14:14:00|            NE|   3|       2|           NE|                  0|                     0|    2543773|         SHOTGUN|1 RB, 1 TE, 3 WR|                6|2 DL, 3 LB, 6 DB|         left|2017-09-08 00:44:06|2017-09-08 00:44:05|    8|         6-1|         210|     10/24/1987|   Monmouth, N.J.|      WR|          NE|             KC|   1|Gillette Stadium|Foxborough, MA|    Outdoor|Field Turf|Clear and warm|         63|      77|        8|           SW|[76.47,36.91,112....|\n",
            "|2017090700|20170907000118|home| 74.7|19.19| 2.1|1.48|0.51|     152.14|278.52|2543498|    Brandin Cooks|          14|  2017|      35|      1| 14:14:00|            NE|   3|       2|           NE|                  0|                     0|    2543773|         SHOTGUN|1 RB, 1 TE, 3 WR|                6|2 DL, 3 LB, 6 DB|         left|2017-09-08 00:44:06|2017-09-08 00:44:05|    8|        5-10|         183|     09/25/1993|     Oregon State|      WR|          NE|             KC|   1|Gillette Stadium|Foxborough, MA|    Outdoor|Field Turf|Clear and warm|         63|      77|        8|           SW|[74.7,19.19,152.1...|\n",
            "|2017090700|20170907000118|home|78.75|30.53|3.63|3.35|0.38|     161.98|245.74|2543773|      James White|          28|  2017|      35|      1| 14:14:00|            NE|   3|       2|           NE|                  0|                     0|    2543773|         SHOTGUN|1 RB, 1 TE, 3 WR|                6|2 DL, 3 LB, 6 DB|         left|2017-09-08 00:44:06|2017-09-08 00:44:05|    8|        5-10|         205|     02/03/1992|        Wisconsin|      RB|          NE|             KC|   1|Gillette Stadium|Foxborough, MA|    Outdoor|Field Turf|Clear and warm|         63|      77|        8|           SW|[78.75,30.53,161....|\n",
            "|2017090700|20170907000118|home| 74.6|31.88|1.86|1.51|0.17|     218.49|267.32|2552563|       Shaq Mason|          69|  2017|      35|      1| 14:14:00|            NE|   3|       2|           NE|                  0|                     0|    2543773|         SHOTGUN|1 RB, 1 TE, 3 WR|                6|2 DL, 3 LB, 6 DB|         left|2017-09-08 00:44:06|2017-09-08 00:44:05|    8|         6-1|         310|     08/28/1993|     Georgia Tech|       G|          NE|             KC|   1|Gillette Stadium|Foxborough, MA|    Outdoor|Field Turf|Clear and warm|         63|      77|        8|           SW|[74.6,31.88,218.4...|\n",
            "+----------+--------------+----+-----+-----+----+----+----+-----------+------+-------+-----------------+------------+------+--------+-------+---------+--------------+----+--------+-------------+-------------------+----------------------+-----------+----------------+----------------+-----------------+----------------+-------------+-------------------+-------------------+-----+------------+------------+---------------+-----------------+--------+------------+---------------+----+----------------+--------------+-----------+----------+--------------+-----------+--------+---------+-------------+--------------------+\n",
            "only showing top 20 rows\n",
            "\n"
          ]
        }
      ]
    },
    {
      "cell_type": "code",
      "source": [
        "final_data = result.select(\"Independent Features\", \"Yards\")\n",
        "final_data.show()"
      ],
      "metadata": {
        "colab": {
          "base_uri": "https://localhost:8080/"
        },
        "id": "eyeDRk035Vn6",
        "outputId": "a1587265-88ed-442d-fc93-7ea05bec0328"
      },
      "execution_count": null,
      "outputs": [
        {
          "output_type": "stream",
          "name": "stdout",
          "text": [
            "+--------------------+-----+\n",
            "|Independent Features|Yards|\n",
            "+--------------------+-----+\n",
            "|[73.91,34.84,81.9...|    8|\n",
            "|[74.67,32.64,27.6...|    8|\n",
            "|[74.0,33.2,3.01,2...|    8|\n",
            "|[71.46,27.7,359.7...|    8|\n",
            "|[69.32,35.42,12.6...|    8|\n",
            "|[75.06,24.0,308.3...|    8|\n",
            "|[74.11,16.64,357....|    8|\n",
            "|[73.37,18.73,328....|    8|\n",
            "|[56.63,26.9,344.7...|    8|\n",
            "|[73.35,38.83,75.4...|    8|\n",
            "|[74.15,28.9,342.5...|    8|\n",
            "|[75.82,17.56,178....|    8|\n",
            "|[74.78,33.21,178....|    8|\n",
            "|[75.43,32.41,207....|    8|\n",
            "|[75.9,25.12,133.0...|    8|\n",
            "|[79.76,29.49,192....|    8|\n",
            "|[76.47,36.91,112....|    8|\n",
            "|[74.7,19.19,152.1...|    8|\n",
            "|[78.75,30.53,161....|    8|\n",
            "|[74.6,31.88,218.4...|    8|\n",
            "+--------------------+-----+\n",
            "only showing top 20 rows\n",
            "\n"
          ]
        }
      ]
    },
    {
      "cell_type": "code",
      "source": [
        "from pyspark.ml.regression import LinearRegression\n",
        "\n",
        "model = LinearRegression(featuresCol = 'Independent Features', labelCol='Yards')\n",
        "model = model.fit(final_data)"
      ],
      "metadata": {
        "id": "6BXOp7ZC59RX"
      },
      "execution_count": null,
      "outputs": []
    },
    {
      "cell_type": "code",
      "source": [
        "model.intercept"
      ],
      "metadata": {
        "colab": {
          "base_uri": "https://localhost:8080/"
        },
        "id": "AkKpSEd472lB",
        "outputId": "9479a04e-28a3-4d3d-d0e5-7247c6e1b4b7"
      },
      "execution_count": null,
      "outputs": [
        {
          "output_type": "execute_result",
          "data": {
            "text/plain": [
              "-311.133102109866"
            ]
          },
          "metadata": {},
          "execution_count": 38
        }
      ]
    },
    {
      "cell_type": "code",
      "source": [
        "model.coefficients"
      ],
      "metadata": {
        "colab": {
          "base_uri": "https://localhost:8080/"
        },
        "id": "6kqIoVaF75Jr",
        "outputId": "7e998c45-87f1-4ccf-a4e9-0c862e9af631"
      },
      "execution_count": null,
      "outputs": [
        {
          "output_type": "execute_result",
          "data": {
            "text/plain": [
              "DenseVector([0.0006, -0.0013, -0.0, 0.1559, 0.1478, 0.0023, -0.0056, 0.1329, -0.0033, -0.019])"
            ]
          },
          "metadata": {},
          "execution_count": 39
        }
      ]
    },
    {
      "cell_type": "code",
      "source": [
        "model.summary.pValues"
      ],
      "metadata": {
        "colab": {
          "base_uri": "https://localhost:8080/"
        },
        "id": "MMjUTpR176Tb",
        "outputId": "c68ba48c-7eaa-4b73-9773-cec780eadc96"
      },
      "execution_count": null,
      "outputs": [
        {
          "output_type": "execute_result",
          "data": {
            "text/plain": [
              "[0.05052493190044283,\n",
              " 0.2418417597906739,\n",
              " 0.8019881393749151,\n",
              " 0.0,\n",
              " 0.0,\n",
              " 0.03884097114727503,\n",
              " 0.0,\n",
              " 0.0,\n",
              " 8.43769498715119e-15,\n",
              " 0.0508568983287363,\n",
              " 0.0]"
            ]
          },
          "metadata": {},
          "execution_count": 40
        }
      ]
    },
    {
      "cell_type": "code",
      "source": [
        "prediction_result = model.evaluate(final_data)\n",
        "prediction_result.predictions.show()"
      ],
      "metadata": {
        "colab": {
          "base_uri": "https://localhost:8080/"
        },
        "id": "-PhvzMVd8UVT",
        "outputId": "8b1add57-bce5-4ea4-abbb-27fbb2036653"
      },
      "execution_count": null,
      "outputs": [
        {
          "output_type": "stream",
          "name": "stderr",
          "text": [
            "/content/spark-3.2.2-bin-hadoop3.2/python/pyspark/sql/context.py:127: FutureWarning: Deprecated in 3.0.0. Use SparkSession.builder.getOrCreate() instead.\n",
            "  FutureWarning\n"
          ]
        },
        {
          "output_type": "stream",
          "name": "stdout",
          "text": [
            "+--------------------+-----+------------------+\n",
            "|Independent Features|Yards|        prediction|\n",
            "+--------------------+-----+------------------+\n",
            "|[73.91,34.84,81.9...|    8| 3.418018160852398|\n",
            "|[74.67,32.64,27.6...|    8|3.4225437798920666|\n",
            "|[74.0,33.2,3.01,2...|    8|3.4218642049434607|\n",
            "|[71.46,27.7,359.7...|    8| 3.420466498677797|\n",
            "|[69.32,35.42,12.6...|    8|3.4157379542841113|\n",
            "|[75.06,24.0,308.3...|    8| 3.428738089255546|\n",
            "|[74.11,16.64,357....|    8| 3.437031855493842|\n",
            "|[73.37,18.73,328....|    8|3.4343376052499366|\n",
            "|[56.63,26.9,344.7...|    8|3.4124835132682847|\n",
            "|[73.35,38.83,75.4...|    8| 3.412441547614776|\n",
            "|[74.15,28.9,342.5...|    8| 3.420899643338714|\n",
            "|[75.82,17.56,178....|    8|3.4404617294052287|\n",
            "|[74.78,33.21,178....|    8|3.4188071163862332|\n",
            "|[75.43,32.41,207....|    8|3.4197225216532843|\n",
            "|[75.9,25.12,133.0...|    8|3.4312915662016508|\n",
            "|[79.76,29.49,192....|    8|3.4266734240453616|\n",
            "|[76.47,36.91,112....|    8| 3.416252072621603|\n",
            "|[74.7,19.19,152.1...|    8| 3.438107128767001|\n",
            "|[78.75,30.53,161....|    8|3.4252477666960317|\n",
            "|[74.6,31.88,218.4...|    8|  3.41968042858133|\n",
            "+--------------------+-----+------------------+\n",
            "only showing top 20 rows\n",
            "\n"
          ]
        }
      ]
    }
  ]
}